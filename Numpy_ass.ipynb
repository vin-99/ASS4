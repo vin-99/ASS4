{
  "nbformat": 4,
  "nbformat_minor": 0,
  "metadata": {
    "colab": {
      "name": "Numpy ass.ipynb",
      "provenance": [],
      "collapsed_sections": [],
      "authorship_tag": "ABX9TyOXcGimQC3UxVYAyYU5PEf8",
      "include_colab_link": true
    },
    "kernelspec": {
      "name": "python3",
      "display_name": "Python 3"
    },
    "language_info": {
      "name": "python"
    }
  },
  "cells": [
    {
      "cell_type": "markdown",
      "metadata": {
        "id": "view-in-github",
        "colab_type": "text"
      },
      "source": [
        "<a href=\"https://colab.research.google.com/github/vin-99/ASS4/blob/main/Numpy_ass.ipynb\" target=\"_parent\"><img src=\"https://colab.research.google.com/assets/colab-badge.svg\" alt=\"Open In Colab\"/></a>"
      ]
    },
    {
      "cell_type": "code",
      "execution_count": 1,
      "metadata": {
        "colab": {
          "base_uri": "https://localhost:8080/"
        },
        "id": "WVtt6Cr99H_L",
        "outputId": "c27f53ec-9450-421f-a7f0-6ce2fe8b740f"
      },
      "outputs": [
        {
          "output_type": "stream",
          "name": "stdout",
          "text": [
            "[0 0 0 0 1 0 0 0 0 0]\n"
          ]
        }
      ],
      "source": [
        "import numpy as np\n",
        "\n",
        "\n",
        "arr = np.zeros(10,dtype = int)\n",
        "arr[4] = 1\n",
        "\n",
        "print(arr)"
      ]
    },
    {
      "cell_type": "code",
      "source": [
        "array_1 = np.arange(10,50)\n",
        "\n",
        "array_1"
      ],
      "metadata": {
        "colab": {
          "base_uri": "https://localhost:8080/"
        },
        "id": "zHm_r18U9RTv",
        "outputId": "001a7ce8-a52c-4a3e-83a7-e53780910bfc"
      },
      "execution_count": 2,
      "outputs": [
        {
          "output_type": "execute_result",
          "data": {
            "text/plain": [
              "array([10, 11, 12, 13, 14, 15, 16, 17, 18, 19, 20, 21, 22, 23, 24, 25, 26,\n",
              "       27, 28, 29, 30, 31, 32, 33, 34, 35, 36, 37, 38, 39, 40, 41, 42, 43,\n",
              "       44, 45, 46, 47, 48, 49])"
            ]
          },
          "metadata": {},
          "execution_count": 2
        }
      ]
    },
    {
      "cell_type": "code",
      "source": [
        "array_2 = np.arange(0,9).reshape(3,3)\n",
        "\n",
        "print(array_2)"
      ],
      "metadata": {
        "colab": {
          "base_uri": "https://localhost:8080/"
        },
        "id": "OkyRBKyr9Y0o",
        "outputId": "18a50dd0-b22e-4668-a10b-4b9b7be27cf4"
      },
      "execution_count": 4,
      "outputs": [
        {
          "output_type": "stream",
          "name": "stdout",
          "text": [
            "[[0 1 2]\n",
            " [3 4 5]\n",
            " [6 7 8]]\n"
          ]
        }
      ]
    },
    {
      "cell_type": "code",
      "source": [
        "n_array = np.array([1,2,0,0,4,0])\n",
        "\n",
        "print(\"Original array:\")\n",
        "print(n_array)\n",
        "\n",
        "# np.nonzero()\n",
        "print(\"\\nIndices of null elements:\")\n",
        "\n",
        "res = np.nonzero(n_array == 0)\n",
        "print(res)"
      ],
      "metadata": {
        "colab": {
          "base_uri": "https://localhost:8080/"
        },
        "id": "B9wqC-Jc9cQ4",
        "outputId": "b2422922-fc1d-42c5-9ff2-3dc94be89eaa"
      },
      "execution_count": 5,
      "outputs": [
        {
          "output_type": "stream",
          "name": "stdout",
          "text": [
            "Original array:\n",
            "[1 2 0 0 4 0]\n",
            "\n",
            "Indices of null elements:\n",
            "(array([2, 3, 5]),)\n"
          ]
        }
      ]
    },
    {
      "cell_type": "code",
      "source": [
        "import numpy as np\n",
        "\n",
        "n_array = np.random.random((10,10))\n",
        "\n",
        "print(\"the original array\",n_array)\n",
        "\n",
        "print(\"\\n\\n\")\n",
        "print(\"the minimum value of n_array: \\n\",n_array.min())\n",
        "      \n",
        "print(\"\\n\\n\")\n",
        "print(\"the maximun value of n_array: \\n\",n_array.max())"
      ],
      "metadata": {
        "colab": {
          "base_uri": "https://localhost:8080/"
        },
        "id": "EXXS-gc99hRA",
        "outputId": "1b1c9277-acd5-4751-cfef-b94fbedc2eb2"
      },
      "execution_count": 6,
      "outputs": [
        {
          "output_type": "stream",
          "name": "stdout",
          "text": [
            "the original array [[0.2575441  0.62073504 0.61274089 0.54255803 0.98706439 0.10620198\n",
            "  0.02980007 0.10652165 0.35143346 0.0793898 ]\n",
            " [0.52243434 0.52486024 0.00276732 0.83674435 0.94209564 0.94254971\n",
            "  0.12378702 0.54043856 0.590918   0.17456011]\n",
            " [0.71028152 0.87725762 0.40704061 0.58301003 0.85347851 0.43554272\n",
            "  0.63172246 0.02442502 0.94291718 0.19331374]\n",
            " [0.38883115 0.27404324 0.44077649 0.2331764  0.84085127 0.74099439\n",
            "  0.37275264 0.52437037 0.36140332 0.88525743]\n",
            " [0.36425518 0.40234144 0.8501035  0.93078242 0.25624662 0.05034072\n",
            "  0.42043216 0.19423422 0.99586142 0.30365257]\n",
            " [0.7861815  0.33727423 0.34726249 0.92369409 0.24207914 0.42032254\n",
            "  0.81402471 0.96770181 0.39294735 0.42036843]\n",
            " [0.61169506 0.05505063 0.31559364 0.4781031  0.72473294 0.06358725\n",
            "  0.58845402 0.65168008 0.18945945 0.29295448]\n",
            " [0.43850407 0.55657916 0.99477277 0.11196111 0.74664999 0.43643858\n",
            "  0.62970764 0.01803626 0.21225248 0.20281051]\n",
            " [0.34618356 0.55255352 0.4176382  0.9778697  0.06447466 0.27385447\n",
            "  0.75417388 0.21736187 0.43164293 0.38934663]\n",
            " [0.55167422 0.13726833 0.40245878 0.15898821 0.64544327 0.3508206\n",
            "  0.07362638 0.20502018 0.49857431 0.60330362]]\n",
            "\n",
            "\n",
            "\n",
            "the minimum value of n_array: \n",
            " 0.0027673174643512155\n",
            "\n",
            "\n",
            "\n",
            "the maximun value of n_array: \n",
            " 0.9958614200703227\n"
          ]
        }
      ]
    },
    {
      "cell_type": "code",
      "source": [
        "import numpy as np\n",
        "\n",
        "z = np.random.random(30)\n",
        "print(\"the random array is: \\n\",z)\n",
        "\n",
        "mean_1 = z.mean()\n",
        "print(\"\\n\\nthe mean value of array: \\n \",mean_1)"
      ],
      "metadata": {
        "colab": {
          "base_uri": "https://localhost:8080/"
        },
        "id": "BMLQCOpt9q4Q",
        "outputId": "ed4814de-9e35-48b8-d6d2-e4b38fcfee0a"
      },
      "execution_count": 10,
      "outputs": [
        {
          "output_type": "stream",
          "name": "stdout",
          "text": [
            "the random array is: \n",
            " [0.44153565 0.38835545 0.67609432 0.96624653 0.7823179  0.52525333\n",
            " 0.94106207 0.64541941 0.15310984 0.46496309 0.74653972 0.88230047\n",
            " 0.03974551 0.94736276 0.89412461 0.30725423 0.5874013  0.03432226\n",
            " 0.46682439 0.7820932  0.54611331 0.94452052 0.61607929 0.16460214\n",
            " 0.06797452 0.26112576 0.62034509 0.57268133 0.10222066 0.77112835]\n",
            "\n",
            "\n",
            "the mean value of array: \n",
            "  0.5446372341504714\n"
          ]
        }
      ]
    }
  ]
}